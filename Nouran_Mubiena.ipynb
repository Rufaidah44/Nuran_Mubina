{
  "nbformat": 4,
  "nbformat_minor": 0,
  "metadata": {
    "colab": {
      "name": "Nouran_Mubiena.ipynb",
      "provenance": [],
      "collapsed_sections": [],
      "authorship_tag": "ABX9TyNp849YZzNqV42B/M9yPGZ6",
      "include_colab_link": true
    },
    "kernelspec": {
      "name": "python3",
      "display_name": "Python 3"
    },
    "language_info": {
      "name": "python"
    },
    "accelerator": "GPU"
  },
  "cells": [
    {
      "cell_type": "markdown",
      "metadata": {
        "id": "view-in-github",
        "colab_type": "text"
      },
      "source": [
        "<a href=\"https://colab.research.google.com/github/Rufaidah44/Nuran_Mubina/blob/main/Nouran_Mubiena.ipynb\" target=\"_parent\"><img src=\"https://colab.research.google.com/assets/colab-badge.svg\" alt=\"Open In Colab\"/></a>"
      ]
    },
    {
      "cell_type": "code",
      "metadata": {
        "colab": {
          "base_uri": "https://localhost:8080/"
        },
        "id": "bDyN439ObGtJ",
        "outputId": "1c339b0a-93d2-4da2-89f1-2e0a598972e6"
      },
      "source": [
        "pip install easyocr"
      ],
      "execution_count": 1,
      "outputs": [
        {
          "output_type": "stream",
          "text": [
            "Collecting easyocr\n",
            "\u001b[?25l  Downloading https://files.pythonhosted.org/packages/6f/25/858a0245b7aa25ac955bff0e815551a27bde65f4f52a346b0fd3b8c3738e/easyocr-1.3.1-py3-none-any.whl (63.2MB)\n",
            "\u001b[K     |████████████████████████████████| 63.2MB 45kB/s \n",
            "\u001b[?25hRequirement already satisfied: PyYAML in /usr/local/lib/python3.7/dist-packages (from easyocr) (3.13)\n",
            "Requirement already satisfied: torch in /usr/local/lib/python3.7/dist-packages (from easyocr) (1.8.1+cu101)\n",
            "Requirement already satisfied: numpy in /usr/local/lib/python3.7/dist-packages (from easyocr) (1.19.5)\n",
            "Requirement already satisfied: scipy in /usr/local/lib/python3.7/dist-packages (from easyocr) (1.4.1)\n",
            "Requirement already satisfied: torchvision>=0.5 in /usr/local/lib/python3.7/dist-packages (from easyocr) (0.9.1+cu101)\n",
            "Requirement already satisfied: scikit-image in /usr/local/lib/python3.7/dist-packages (from easyocr) (0.16.2)\n",
            "Collecting python-bidi\n",
            "  Downloading https://files.pythonhosted.org/packages/33/b0/f942d146a2f457233baaafd6bdf624eba8e0f665045b4abd69d1b62d097d/python_bidi-0.4.2-py2.py3-none-any.whl\n",
            "Requirement already satisfied: Pillow in /usr/local/lib/python3.7/dist-packages (from easyocr) (7.1.2)\n",
            "Requirement already satisfied: opencv-python in /usr/local/lib/python3.7/dist-packages (from easyocr) (4.1.2.30)\n",
            "Requirement already satisfied: typing-extensions in /usr/local/lib/python3.7/dist-packages (from torch->easyocr) (3.7.4.3)\n",
            "Requirement already satisfied: imageio>=2.3.0 in /usr/local/lib/python3.7/dist-packages (from scikit-image->easyocr) (2.4.1)\n",
            "Requirement already satisfied: matplotlib!=3.0.0,>=2.0.0 in /usr/local/lib/python3.7/dist-packages (from scikit-image->easyocr) (3.2.2)\n",
            "Requirement already satisfied: PyWavelets>=0.4.0 in /usr/local/lib/python3.7/dist-packages (from scikit-image->easyocr) (1.1.1)\n",
            "Requirement already satisfied: networkx>=2.0 in /usr/local/lib/python3.7/dist-packages (from scikit-image->easyocr) (2.5.1)\n",
            "Requirement already satisfied: six in /usr/local/lib/python3.7/dist-packages (from python-bidi->easyocr) (1.15.0)\n",
            "Requirement already satisfied: pyparsing!=2.0.4,!=2.1.2,!=2.1.6,>=2.0.1 in /usr/local/lib/python3.7/dist-packages (from matplotlib!=3.0.0,>=2.0.0->scikit-image->easyocr) (2.4.7)\n",
            "Requirement already satisfied: cycler>=0.10 in /usr/local/lib/python3.7/dist-packages (from matplotlib!=3.0.0,>=2.0.0->scikit-image->easyocr) (0.10.0)\n",
            "Requirement already satisfied: kiwisolver>=1.0.1 in /usr/local/lib/python3.7/dist-packages (from matplotlib!=3.0.0,>=2.0.0->scikit-image->easyocr) (1.3.1)\n",
            "Requirement already satisfied: python-dateutil>=2.1 in /usr/local/lib/python3.7/dist-packages (from matplotlib!=3.0.0,>=2.0.0->scikit-image->easyocr) (2.8.1)\n",
            "Requirement already satisfied: decorator<5,>=4.3 in /usr/local/lib/python3.7/dist-packages (from networkx>=2.0->scikit-image->easyocr) (4.4.2)\n",
            "Installing collected packages: python-bidi, easyocr\n",
            "Successfully installed easyocr-1.3.1 python-bidi-0.4.2\n"
          ],
          "name": "stdout"
        }
      ]
    },
    {
      "cell_type": "code",
      "metadata": {
        "colab": {
          "base_uri": "https://localhost:8080/"
        },
        "id": "TzKLITrY5bJy",
        "outputId": "c2eac6d6-f568-47e7-8ce0-eecf3e35a5cd"
      },
      "source": [
        "pip install playsound"
      ],
      "execution_count": 22,
      "outputs": [
        {
          "output_type": "stream",
          "text": [
            "Collecting playsound\n",
            "  Downloading https://files.pythonhosted.org/packages/f5/16/10d897b0a83fb4b05b03a63d7a2667ab75f857f67f7062fd447dd3f49bf7/playsound-1.2.2-py2.py3-none-any.whl\n",
            "Installing collected packages: playsound\n",
            "Successfully installed playsound-1.2.2\n"
          ],
          "name": "stdout"
        }
      ]
    },
    {
      "cell_type": "code",
      "metadata": {
        "id": "4r3-tayTFisb"
      },
      "source": [
        "import pandas as pd\n",
        "\n",
        "#pd.set_option('display.height',1000)\n",
        "pd.set_option('display.max_rows',500)\n",
        "pd.set_option('display.max_columns',500)\n",
        "pd.set_option('display.width',1000)\n",
        "pd.set_option('display.max_columns', None)  # or 1000\n",
        "pd.set_option('display.max_rows', None)  # or 1000\n",
        "pd.set_option('display.max_colwidth', None)  # or 199"
      ],
      "execution_count": 25,
      "outputs": []
    },
    {
      "cell_type": "code",
      "metadata": {
        "id": "J1IFasyrbO0z"
      },
      "source": [
        "import easyocr\n",
        "reader = easyocr.Reader(['ar']) # need to run only once to load model into memory\n",
        "result = reader.readtext('/content/Alnas2.png')\n"
      ],
      "execution_count": 52,
      "outputs": []
    },
    {
      "cell_type": "code",
      "metadata": {
        "colab": {
          "base_uri": "https://localhost:8080/",
          "height": 53
        },
        "id": "rLn1hN5PbZA7",
        "outputId": "9ce83700-6dfc-40a6-88fb-b86d15196541"
      },
      "source": [
        "\n",
        "extracted_text = ''\n",
        "for i in range(len(result)):\n",
        "  extracted_text = str(extracted_text) + \" \" + result[i][1]\n",
        "  #print(result[i][1]) \n",
        "\n",
        "print(extracted_text)\n",
        "\n",
        "from string import digits\n",
        "#Remove Digits\n",
        "table = str.maketrans('', '', digits)\n",
        "extracted_text = extracted_text.translate(table)\n",
        "extracted_text"
      ],
      "execution_count": 53,
      "outputs": [
        {
          "output_type": "stream",
          "text": [
            " (3) من شر الوسواس الخنًاس  النًاس\n"
          ],
          "name": "stdout"
        },
        {
          "output_type": "execute_result",
          "data": {
            "application/vnd.google.colaboratory.intrinsic+json": {
              "type": "string"
            },
            "text/plain": [
              "' () من شر الوسواس الخنًاس  النًاس'"
            ]
          },
          "metadata": {
            "tags": []
          },
          "execution_count": 53
        }
      ]
    },
    {
      "cell_type": "code",
      "metadata": {
        "id": "fE8prEJxfN7D"
      },
      "source": [
        "import pandas as pd\n",
        "import numpy as np\n",
        "from sklearn.feature_extraction.text import TfidfVectorizer\n",
        "from sklearn.metrics.pairwise import cosine_similarity\n",
        "\n",
        "\n",
        "suras_Text = pd.read_csv('/content/Suras_Text.csv', encoding=\"utf-8\")\n",
        "\n",
        "suras_Text"
      ],
      "execution_count": null,
      "outputs": []
    },
    {
      "cell_type": "code",
      "metadata": {
        "id": "ev13SINoja95"
      },
      "source": [
        "vectorizer = TfidfVectorizer()\n",
        "\n",
        "#vectorize the original Ayat\n",
        "vectorizer.fit(suras_Text.values.ravel())\n",
        "Sura_vic = vectorizer.transform(suras_Text.Ayat)\n",
        "#vectorive the extracted Ayat\n",
        "Ayat = vectorizer.transform([extracted_text])"
      ],
      "execution_count": 54,
      "outputs": []
    },
    {
      "cell_type": "code",
      "metadata": {
        "colab": {
          "base_uri": "https://localhost:8080/"
        },
        "id": "NtdACo7wnaUz",
        "outputId": "0f4a1c94-a364-4878-c022-b6e64bd34308"
      },
      "source": [
        "#Measure Similarity\n",
        "rank = cosine_similarity(Ayat, Sura_vic)\n",
        "top = np.argsort(rank, axis=-1).T[-1:].tolist()\n",
        "\n",
        "surah_no = ''\n",
        "for item in top:\n",
        "  print(item)\n",
        "  surah_no = item\n",
        "  print(suras_Text.Surah[item])\n",
        "\n",
        "#print(surah_no[0])"
      ],
      "execution_count": 55,
      "outputs": [
        {
          "output_type": "stream",
          "text": [
            "[2]\n",
            "2    الناس\n",
            "Name: Surah, dtype: object\n"
          ],
          "name": "stdout"
        }
      ]
    },
    {
      "cell_type": "code",
      "metadata": {
        "colab": {
          "base_uri": "https://localhost:8080/"
        },
        "id": "JTxL2XmZu8-l",
        "outputId": "a6753276-c769-4b07-e823-7d2052508dae"
      },
      "source": [
        "print(\"1- تفسير السورة \\n 2- متشابهات السورة \\n 3- الاستماع إلى السورة \\n\")\n",
        "choise = input(\"Enter Choise:\")\n",
        "if choise == '1':\n",
        "  Tafseer(surah_no)\n",
        "\n",
        "elif choise =='2':\n",
        "    Mutshabihat(surah_no)\n",
        "\n",
        "elif choise =='3':\n",
        "    Samaa(surah_no)"
      ],
      "execution_count": 57,
      "outputs": [
        {
          "output_type": "stream",
          "text": [
            "1- تفسير السورة \n",
            " 2- متشابهات السورة \n",
            " 3- الاستماع إلى السورة \n",
            "\n",
            "Enter Choise:2\n",
            "[\"'''(قل أعوذ برب الفلق ) سورة الفلق'''\"]\n"
          ],
          "name": "stdout"
        }
      ]
    },
    {
      "cell_type": "markdown",
      "metadata": {
        "id": "oAxDR5HYxAV8"
      },
      "source": [
        "# Choises\n"
      ]
    },
    {
      "cell_type": "code",
      "metadata": {
        "id": "HpQKgo63xJJM"
      },
      "source": [
        "def Tafseer(s_no):\n",
        "  Tafseer_df = pd.read_csv('/content/Tafseer.csv', encoding=\"utf-8\")\n",
        "  \n",
        "  print(Tafseer_df.Tafseer[s_no].values)\n",
        "\n"
      ],
      "execution_count": 10,
      "outputs": []
    },
    {
      "cell_type": "code",
      "metadata": {
        "id": "9vT60o0s1BAX"
      },
      "source": [
        "def Mutshabihat(s_no):\n",
        "   Mutshabihat_df = pd.read_csv('/content/Motashabihat.csv', encoding=\"utf-8\")\n",
        "   mut = str(\"'''\"+Mutshabihat_df.Motashabihataha[s_no].values +\"'''\")\n",
        "   print(mut)"
      ],
      "execution_count": 29,
      "outputs": []
    },
    {
      "cell_type": "code",
      "metadata": {
        "colab": {
          "base_uri": "https://localhost:8080/",
          "height": 375
        },
        "id": "q-RKRArD3POM",
        "outputId": "727d6e45-d928-4629-901b-d290ed7d45fa"
      },
      "source": [
        "from playsound import playsound\n",
        "def Samaa(s_no):\n",
        "  s_no = str(s_no[0])\n",
        "  fileName = \"/content/S\"+s_no+\".mp3\"\n",
        "  playsound(fileName)"
      ],
      "execution_count": 12,
      "outputs": [
        {
          "output_type": "error",
          "ename": "ModuleNotFoundError",
          "evalue": "ignored",
          "traceback": [
            "\u001b[0;31m---------------------------------------------------------------------------\u001b[0m",
            "\u001b[0;31mModuleNotFoundError\u001b[0m                       Traceback (most recent call last)",
            "\u001b[0;32m<ipython-input-12-17d576c7780a>\u001b[0m in \u001b[0;36m<module>\u001b[0;34m()\u001b[0m\n\u001b[0;32m----> 1\u001b[0;31m \u001b[0;32mfrom\u001b[0m \u001b[0mplaysound\u001b[0m \u001b[0;32mimport\u001b[0m \u001b[0mplaysound\u001b[0m\u001b[0;34m\u001b[0m\u001b[0;34m\u001b[0m\u001b[0m\n\u001b[0m\u001b[1;32m      2\u001b[0m \u001b[0;32mdef\u001b[0m \u001b[0mSamaa\u001b[0m\u001b[0;34m(\u001b[0m\u001b[0ms_no\u001b[0m\u001b[0;34m)\u001b[0m\u001b[0;34m:\u001b[0m\u001b[0;34m\u001b[0m\u001b[0;34m\u001b[0m\u001b[0m\n\u001b[1;32m      3\u001b[0m   \u001b[0ms_no\u001b[0m \u001b[0;34m=\u001b[0m \u001b[0mstr\u001b[0m\u001b[0;34m(\u001b[0m\u001b[0ms_no\u001b[0m\u001b[0;34m[\u001b[0m\u001b[0;36m0\u001b[0m\u001b[0;34m]\u001b[0m\u001b[0;34m)\u001b[0m\u001b[0;34m\u001b[0m\u001b[0;34m\u001b[0m\u001b[0m\n\u001b[1;32m      4\u001b[0m   \u001b[0mfileName\u001b[0m \u001b[0;34m=\u001b[0m \u001b[0;34m\"/content/S\"\u001b[0m\u001b[0;34m+\u001b[0m\u001b[0ms_no\u001b[0m\u001b[0;34m+\u001b[0m\u001b[0;34m\".mp3\"\u001b[0m\u001b[0;34m\u001b[0m\u001b[0;34m\u001b[0m\u001b[0m\n\u001b[1;32m      5\u001b[0m   \u001b[0mplaysound\u001b[0m\u001b[0;34m(\u001b[0m\u001b[0mfileName\u001b[0m\u001b[0;34m)\u001b[0m\u001b[0;34m\u001b[0m\u001b[0;34m\u001b[0m\u001b[0m\n",
            "\u001b[0;31mModuleNotFoundError\u001b[0m: No module named 'playsound'",
            "",
            "\u001b[0;31m---------------------------------------------------------------------------\u001b[0;32m\nNOTE: If your import is failing due to a missing package, you can\nmanually install dependencies using either !pip or !apt.\n\nTo view examples of installing some common dependencies, click the\n\"Open Examples\" button below.\n\u001b[0;31m---------------------------------------------------------------------------\u001b[0m\n"
          ]
        }
      ]
    }
  ]
}